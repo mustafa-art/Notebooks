{
    "cells": [
        {
            "metadata": {},
            "cell_type": "code",
            "source": "## This is a test for IBM Watson Studio ",
            "execution_count": 1,
            "outputs": []
        },
        {
            "metadata": {},
            "cell_type": "code",
            "source": "\nimport os, types\nimport pandas as pd\nfrom botocore.client import Config\nimport ibm_boto3\n\ndef __iter__(self): return 0\n\n# @hidden_cell\n# The following code accesses a file in your IBM Cloud Object Storage. It includes your credentials.\n# You might want to remove those credentials before you share the notebook.\n\nif os.environ.get('RUNTIME_ENV_LOCATION_TYPE') == 'external':\n    endpoint_fbb72438f8b74766a6b43adcfcfa2d22 = 'https://s3.eu.cloud-object-storage.appdomain.cloud'\nelse:\n    endpoint_fbb72438f8b74766a6b43adcfcfa2d22 = 'https://s3.private.eu.cloud-object-storage.appdomain.cloud'\n\nclient_fbb72438f8b74766a6b43adcfcfa2d22 = ibm_boto3.client(service_name='s3',\n    ibm_api_key_id='n1gg3wnaldBKzoNrjp_5fh_Z1hE3BrHnkeUFbHjq0g3A',\n    ibm_auth_endpoint=\"https://iam.cloud.ibm.com/oidc/token\",\n    config=Config(signature_version='oauth'),\n    endpoint_url=endpoint_fbb72438f8b74766a6b43adcfcfa2d22)\n\nbody = client_fbb72438f8b74766a6b43adcfcfa2d22.get_object(Bucket='testmethod-donotdelete-pr-vwdrupfdw5nsad',Key='1. Weather Data.csv')['Body']\n# add missing __iter__ method, so pandas accepts body as file-like object\nif not hasattr(body, \"__iter__\"): body.__iter__ = types.MethodType( __iter__, body )\n\ndf_data_1 = pd.read_csv(body)\ndf_data_1.head()\n",
            "execution_count": 2,
            "outputs": [
                {
                    "output_type": "execute_result",
                    "execution_count": 2,
                    "data": {
                        "text/plain": "       Date/Time  Temp_C  Dew Point Temp_C  Rel Hum_%  Wind Speed_km/h  \\\n0  1/1/2012 0:00    -1.8              -3.9         86                4   \n1  1/1/2012 1:00    -1.8              -3.7         87                4   \n2  1/1/2012 2:00    -1.8              -3.4         89                7   \n3  1/1/2012 3:00    -1.5              -3.2         88                6   \n4  1/1/2012 4:00    -1.5              -3.3         88                7   \n\n   Visibility_km  Press_kPa               Weather  \n0            8.0     101.24                   Fog  \n1            8.0     101.24                   Fog  \n2            4.0     101.26  Freezing Drizzle,Fog  \n3            4.0     101.27  Freezing Drizzle,Fog  \n4            4.8     101.23                   Fog  ",
                        "text/html": "<div>\n<style scoped>\n    .dataframe tbody tr th:only-of-type {\n        vertical-align: middle;\n    }\n\n    .dataframe tbody tr th {\n        vertical-align: top;\n    }\n\n    .dataframe thead th {\n        text-align: right;\n    }\n</style>\n<table border=\"1\" class=\"dataframe\">\n  <thead>\n    <tr style=\"text-align: right;\">\n      <th></th>\n      <th>Date/Time</th>\n      <th>Temp_C</th>\n      <th>Dew Point Temp_C</th>\n      <th>Rel Hum_%</th>\n      <th>Wind Speed_km/h</th>\n      <th>Visibility_km</th>\n      <th>Press_kPa</th>\n      <th>Weather</th>\n    </tr>\n  </thead>\n  <tbody>\n    <tr>\n      <th>0</th>\n      <td>1/1/2012 0:00</td>\n      <td>-1.8</td>\n      <td>-3.9</td>\n      <td>86</td>\n      <td>4</td>\n      <td>8.0</td>\n      <td>101.24</td>\n      <td>Fog</td>\n    </tr>\n    <tr>\n      <th>1</th>\n      <td>1/1/2012 1:00</td>\n      <td>-1.8</td>\n      <td>-3.7</td>\n      <td>87</td>\n      <td>4</td>\n      <td>8.0</td>\n      <td>101.24</td>\n      <td>Fog</td>\n    </tr>\n    <tr>\n      <th>2</th>\n      <td>1/1/2012 2:00</td>\n      <td>-1.8</td>\n      <td>-3.4</td>\n      <td>89</td>\n      <td>7</td>\n      <td>4.0</td>\n      <td>101.26</td>\n      <td>Freezing Drizzle,Fog</td>\n    </tr>\n    <tr>\n      <th>3</th>\n      <td>1/1/2012 3:00</td>\n      <td>-1.5</td>\n      <td>-3.2</td>\n      <td>88</td>\n      <td>6</td>\n      <td>4.0</td>\n      <td>101.27</td>\n      <td>Freezing Drizzle,Fog</td>\n    </tr>\n    <tr>\n      <th>4</th>\n      <td>1/1/2012 4:00</td>\n      <td>-1.5</td>\n      <td>-3.3</td>\n      <td>88</td>\n      <td>7</td>\n      <td>4.8</td>\n      <td>101.23</td>\n      <td>Fog</td>\n    </tr>\n  </tbody>\n</table>\n</div>"
                    },
                    "metadata": {}
                }
            ]
        },
        {
            "metadata": {},
            "cell_type": "code",
            "source": "",
            "execution_count": null,
            "outputs": []
        }
    ],
    "metadata": {
        "kernelspec": {
            "name": "python3",
            "display_name": "Python 3.8",
            "language": "python"
        },
        "language_info": {
            "name": "python",
            "version": "3.8.11",
            "mimetype": "text/x-python",
            "codemirror_mode": {
                "name": "ipython",
                "version": 3
            },
            "pygments_lexer": "ipython3",
            "nbconvert_exporter": "python",
            "file_extension": ".py"
        }
    },
    "nbformat": 4,
    "nbformat_minor": 1
}